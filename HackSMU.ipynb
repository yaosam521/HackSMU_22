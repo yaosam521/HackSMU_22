{
  "nbformat": 4,
  "nbformat_minor": 0,
  "metadata": {
    "colab": {
      "provenance": [],
      "collapsed_sections": [],
      "include_colab_link": true
    },
    "kernelspec": {
      "name": "python3",
      "display_name": "Python 3"
    },
    "language_info": {
      "name": "python"
    }
  },
  "cells": [
    {
      "cell_type": "markdown",
      "metadata": {
        "id": "view-in-github",
        "colab_type": "text"
      },
      "source": [
        "<a href=\"https://colab.research.google.com/github/yaosam521/HackSMU_22/blob/main/HackSMU.ipynb\" target=\"_parent\"><img src=\"https://colab.research.google.com/assets/colab-badge.svg\" alt=\"Open In Colab\"/></a>"
      ]
    },
    {
      "cell_type": "code",
      "source": [
        "# All the setup stuff here\n",
        "#!pip install ujson\n",
        "!pip3 install socrata-py\n",
        "!pip3 install sodapy\n",
        "from socrata.authorization import Authorization\n",
        "from socrata import Socrata\n",
        "from sodapy import Socrata\n",
        "import ujson, requests, os\n",
        "\n",
        "# Make an auth object\n",
        "auth = Authorization(\n",
        "  \"\",\n",
        "  \"ay6ucx8w0pkf3wpblrvah7zfq\",\n",
        "  \"22m1ry5evkqtlnigmf79s79spk2r7rv04s3ewbwv38gvcjx9lf\"\n",
        ")\n",
        "\n",
        "client = Socrata(\n",
        "        \"www.dallasopendata.com\",\n",
        "        \"JEh8Dh72mlqeCbRYUcSq5CVbQ\",\n",
        "        timeout=10\n",
        "    )\n",
        "\n",
        "#Store results of the request\n",
        "results = client.get(\"9fxf-t2tr\")"
      ],
      "metadata": {
        "id": "0zA7MRedF_I1",
        "colab": {
          "base_uri": "https://localhost:8080/"
        },
        "outputId": "8067063f-7e87-4ca4-8bc0-afd89893fbb2"
      },
      "execution_count": null,
      "outputs": [
        {
          "output_type": "stream",
          "name": "stdout",
          "text": [
            "Looking in indexes: https://pypi.org/simple, https://us-python.pkg.dev/colab-wheels/public/simple/\n",
            "Requirement already satisfied: socrata-py in /usr/local/lib/python3.7/dist-packages (1.1.13)\n",
            "Requirement already satisfied: requests in /usr/local/lib/python3.7/dist-packages (from socrata-py) (2.28.1)\n",
            "Requirement already satisfied: certifi>=2017.4.17 in /usr/local/lib/python3.7/dist-packages (from requests->socrata-py) (2022.6.15)\n",
            "Requirement already satisfied: charset-normalizer<3,>=2 in /usr/local/lib/python3.7/dist-packages (from requests->socrata-py) (2.1.1)\n",
            "Requirement already satisfied: idna<4,>=2.5 in /usr/local/lib/python3.7/dist-packages (from requests->socrata-py) (2.10)\n",
            "Requirement already satisfied: urllib3<1.27,>=1.21.1 in /usr/local/lib/python3.7/dist-packages (from requests->socrata-py) (1.24.3)\n",
            "Looking in indexes: https://pypi.org/simple, https://us-python.pkg.dev/colab-wheels/public/simple/\n",
            "Requirement already satisfied: sodapy in /usr/local/lib/python3.7/dist-packages (2.2.0)\n",
            "Requirement already satisfied: requests>=2.28.1 in /usr/local/lib/python3.7/dist-packages (from sodapy) (2.28.1)\n",
            "Requirement already satisfied: charset-normalizer<3,>=2 in /usr/local/lib/python3.7/dist-packages (from requests>=2.28.1->sodapy) (2.1.1)\n",
            "Requirement already satisfied: urllib3<1.27,>=1.21.1 in /usr/local/lib/python3.7/dist-packages (from requests>=2.28.1->sodapy) (1.24.3)\n",
            "Requirement already satisfied: certifi>=2017.4.17 in /usr/local/lib/python3.7/dist-packages (from requests>=2.28.1->sodapy) (2022.6.15)\n",
            "Requirement already satisfied: idna<4,>=2.5 in /usr/local/lib/python3.7/dist-packages (from requests>=2.28.1->sodapy) (2.10)\n"
          ]
        }
      ]
    },
    {
      "cell_type": "code",
      "execution_count": 28,
      "metadata": {
        "id": "RuHY6Jz2DWF_",
        "colab": {
          "base_uri": "https://localhost:8080/",
          "height": 380
        },
        "outputId": "54168f3d-d9f7-4d20-f5fb-05e1f544a8fa"
      },
      "outputs": [
        {
          "output_type": "error",
          "ename": "HTTPError",
          "evalue": "ignored",
          "traceback": [
            "\u001b[0;31m---------------------------------------------------------------------------\u001b[0m",
            "\u001b[0;31mHTTPError\u001b[0m                                 Traceback (most recent call last)",
            "\u001b[0;32m<ipython-input-28-1f2823e7c3ab>\u001b[0m in \u001b[0;36m<module>\u001b[0;34m\u001b[0m\n\u001b[1;32m      5\u001b[0m \u001b[0mtext\u001b[0m \u001b[0;34m=\u001b[0m \u001b[0murl\u001b[0m\u001b[0;34m.\u001b[0m\u001b[0mtext\u001b[0m\u001b[0;34m\u001b[0m\u001b[0;34m\u001b[0m\u001b[0m\n\u001b[1;32m      6\u001b[0m \u001b[0;34m\u001b[0m\u001b[0m\n\u001b[0;32m----> 7\u001b[0;31m \u001b[0mresults\u001b[0m \u001b[0;34m=\u001b[0m \u001b[0mclient\u001b[0m\u001b[0;34m.\u001b[0m\u001b[0mget\u001b[0m\u001b[0;34m(\u001b[0m\u001b[0;34m\"9fxf-t2tr\"\u001b[0m\u001b[0;34m)\u001b[0m\u001b[0;34m\u001b[0m\u001b[0;34m\u001b[0m\u001b[0m\n\u001b[0m\u001b[1;32m      8\u001b[0m \u001b[0;34m\u001b[0m\u001b[0m\n\u001b[1;32m      9\u001b[0m \u001b[0mdata\u001b[0m \u001b[0;34m=\u001b[0m \u001b[0mujson\u001b[0m\u001b[0;34m.\u001b[0m\u001b[0mloads\u001b[0m\u001b[0;34m(\u001b[0m\u001b[0mtext\u001b[0m\u001b[0;34m)\u001b[0m\u001b[0;34m\u001b[0m\u001b[0;34m\u001b[0m\u001b[0m\n",
            "\u001b[0;32m/usr/local/lib/python3.7/dist-packages/sodapy/socrata.py\u001b[0m in \u001b[0;36mget\u001b[0;34m(self, dataset_identifier, content_type, **kwargs)\u001b[0m\n\u001b[1;32m    411\u001b[0m \u001b[0;34m\u001b[0m\u001b[0m\n\u001b[1;32m    412\u001b[0m         response = self._perform_request(\n\u001b[0;32m--> 413\u001b[0;31m             \u001b[0;34m\"get\"\u001b[0m\u001b[0;34m,\u001b[0m \u001b[0mresource\u001b[0m\u001b[0;34m,\u001b[0m \u001b[0mheaders\u001b[0m\u001b[0;34m=\u001b[0m\u001b[0mheaders\u001b[0m\u001b[0;34m,\u001b[0m \u001b[0mparams\u001b[0m\u001b[0;34m=\u001b[0m\u001b[0mparams\u001b[0m\u001b[0;34m\u001b[0m\u001b[0;34m\u001b[0m\u001b[0m\n\u001b[0m\u001b[1;32m    414\u001b[0m         )\n\u001b[1;32m    415\u001b[0m         \u001b[0;32mreturn\u001b[0m \u001b[0mresponse\u001b[0m\u001b[0;34m\u001b[0m\u001b[0;34m\u001b[0m\u001b[0m\n",
            "\u001b[0;32m/usr/local/lib/python3.7/dist-packages/sodapy/socrata.py\u001b[0m in \u001b[0;36m_perform_request\u001b[0;34m(self, request_type, resource, **kwargs)\u001b[0m\n\u001b[1;32m    553\u001b[0m         \u001b[0;31m# handle errors\u001b[0m\u001b[0;34m\u001b[0m\u001b[0;34m\u001b[0m\u001b[0;34m\u001b[0m\u001b[0m\n\u001b[1;32m    554\u001b[0m         \u001b[0;32mif\u001b[0m \u001b[0mresponse\u001b[0m\u001b[0;34m.\u001b[0m\u001b[0mstatus_code\u001b[0m \u001b[0;32mnot\u001b[0m \u001b[0;32min\u001b[0m \u001b[0;34m(\u001b[0m\u001b[0;36m200\u001b[0m\u001b[0;34m,\u001b[0m \u001b[0;36m202\u001b[0m\u001b[0;34m)\u001b[0m\u001b[0;34m:\u001b[0m\u001b[0;34m\u001b[0m\u001b[0;34m\u001b[0m\u001b[0m\n\u001b[0;32m--> 555\u001b[0;31m             \u001b[0mutils\u001b[0m\u001b[0;34m.\u001b[0m\u001b[0mraise_for_status\u001b[0m\u001b[0;34m(\u001b[0m\u001b[0mresponse\u001b[0m\u001b[0;34m)\u001b[0m\u001b[0;34m\u001b[0m\u001b[0;34m\u001b[0m\u001b[0m\n\u001b[0m\u001b[1;32m    556\u001b[0m \u001b[0;34m\u001b[0m\u001b[0m\n\u001b[1;32m    557\u001b[0m         \u001b[0;31m# when responses have no content body (ie. delete, set_permission),\u001b[0m\u001b[0;34m\u001b[0m\u001b[0;34m\u001b[0m\u001b[0;34m\u001b[0m\u001b[0m\n",
            "\u001b[0;32m/usr/local/lib/python3.7/dist-packages/sodapy/utils.py\u001b[0m in \u001b[0;36mraise_for_status\u001b[0;34m(response)\u001b[0m\n\u001b[1;32m     28\u001b[0m         \u001b[0;32mif\u001b[0m \u001b[0mmore_info\u001b[0m \u001b[0;32mand\u001b[0m \u001b[0mmore_info\u001b[0m\u001b[0;34m.\u001b[0m\u001b[0mlower\u001b[0m\u001b[0;34m(\u001b[0m\u001b[0;34m)\u001b[0m \u001b[0;34m!=\u001b[0m \u001b[0mresponse\u001b[0m\u001b[0;34m.\u001b[0m\u001b[0mreason\u001b[0m\u001b[0;34m.\u001b[0m\u001b[0mlower\u001b[0m\u001b[0;34m(\u001b[0m\u001b[0;34m)\u001b[0m\u001b[0;34m:\u001b[0m\u001b[0;34m\u001b[0m\u001b[0;34m\u001b[0m\u001b[0m\n\u001b[1;32m     29\u001b[0m             \u001b[0mhttp_error_msg\u001b[0m \u001b[0;34m+=\u001b[0m \u001b[0;34m\".\\n\\t{}\"\u001b[0m\u001b[0;34m.\u001b[0m\u001b[0mformat\u001b[0m\u001b[0;34m(\u001b[0m\u001b[0mmore_info\u001b[0m\u001b[0;34m)\u001b[0m\u001b[0;34m\u001b[0m\u001b[0;34m\u001b[0m\u001b[0m\n\u001b[0;32m---> 30\u001b[0;31m         \u001b[0;32mraise\u001b[0m \u001b[0mrequests\u001b[0m\u001b[0;34m.\u001b[0m\u001b[0mexceptions\u001b[0m\u001b[0;34m.\u001b[0m\u001b[0mHTTPError\u001b[0m\u001b[0;34m(\u001b[0m\u001b[0mhttp_error_msg\u001b[0m\u001b[0;34m,\u001b[0m \u001b[0mresponse\u001b[0m\u001b[0;34m=\u001b[0m\u001b[0mresponse\u001b[0m\u001b[0;34m)\u001b[0m\u001b[0;34m\u001b[0m\u001b[0;34m\u001b[0m\u001b[0m\n\u001b[0m\u001b[1;32m     31\u001b[0m \u001b[0;34m\u001b[0m\u001b[0m\n\u001b[1;32m     32\u001b[0m \u001b[0;34m\u001b[0m\u001b[0m\n",
            "\u001b[0;31mHTTPError\u001b[0m: 503 Server Error: Service Temporarily Unavailable"
          ]
        }
      ],
      "source": [
        "#old_time = (\"time\", \"07:41:42\")\n",
        "\n",
        "#Request the 'DallasPD Open Calls' Data Set\n",
        "url = requests.get(\"https://www.dallasopendata.com/resource/9fxf-t2tr.json\")\n",
        "text = url.text\n",
        "\n",
        "results = client.get(\"9fxf-t2tr\")\n",
        "\n",
        "data = ujson.loads(text)\n",
        "old_data = data.pop\n",
        "\n",
        "#last_data = [{\"incident_number\":\"22-1824208\",\"division\":\"Southeast\",\"nature_of_call\":\"6X - Major Dist (Violence)\",\"priority\":\"2\",\"date\":\"2022-09-16T00:00:00.000\",\"time\":\"21:50:10\",\"unit_number\":\"F312\",\"location\":\"Pine St / S Malcolm X Blvd\",\"beat\":\"347\",\"reporting_area\":\"2173\",\"status\":\"At Scene\"}]\n",
        "\n",
        "'''\n",
        "  Useful information to send:\n",
        "    Division\n",
        "    Nature of Call\n",
        "    Date/Time\n",
        "    Location\n",
        "    Status\n",
        "    Block\n",
        "'''\n",
        "\n",
        "data_length = len(data)\n",
        "print(data_length)\n",
        "\n",
        "print(data)\n",
        "\n",
        "final_entry = data[0]\n",
        "\n",
        "print(\"\\nFinal Entry:\",final_entry)\n",
        "\n",
        "print(\"\\n\")\n",
        "inc_time = list(final_entry.items())[5]\n",
        "print(inc_time)\n",
        "\n",
        "\n",
        "\n",
        "if inc_time >= old_time:\n",
        "    print('new incidents')\n",
        "\n",
        "\n",
        "elif inc_time <= old_time:\n",
        "    print('nothing new')\n",
        "\n",
        "else:\n",
        "    print('something has gone terribly wrong D:<')\n",
        "\n",
        "# old_data = data\n",
        "# return last_time"
      ]
    },
    {
      "cell_type": "code",
      "source": [
        "import pandas as pd\n",
        "results = client.get(\"9fxf-t2tr\")\n",
        "\n",
        "df_dallaspd = pd.DataFrame.from_records(results)\n",
        "df_dallaspd=df_dallaspd.sort_values(by=['date', 'time'], ascending=False)\n",
        "incident_report = df_dallaspd.iloc[0]\n",
        "\n",
        "#prints the entire dictionary/list\n",
        "#print(incident_report)\n",
        "#setting up vars to use in the output?\n",
        "\n",
        "location1 = incident_report['location']\n",
        "division1 = incident_report['division']\n",
        "time1 = incident_report['time']\n",
        "status1 = incident_report['status']\n",
        "incidentNumber1 = incident_report['incident_number']\n",
        "incidentReport1 = incident_report['block']\n",
        "\n",
        "\n",
        "print(f\"INCIDENT REPORT ALERT!!!\\n An incident described as '{status1}' has been reported near {location1}, located in the {division1} division\\n\")\n",
        "print(f\"The incident occurred at {time1}\\n\")\n",
        "print(f\"Incident Number: {incidentNumber1}\\tIncident Block # {incidentReport1}\") \n",
        "# , incident_report('status'), incident_report('incident_number'), incident_report('block'))"
      ],
      "metadata": {
        "colab": {
          "base_uri": "https://localhost:8080/"
        },
        "id": "M9rQgLOsSYhS",
        "outputId": "1bcc5162-25b7-4b91-d401-88aabed56f1c"
      },
      "execution_count": 27,
      "outputs": [
        {
          "output_type": "stream",
          "name": "stdout",
          "text": [
            "INCIDENT REPORT ALERT!!!\n",
            "The location is Buckeye Commons Way, located in division Southeast\n",
            "The incident occurred at 18:47:22\n",
            "The current status of the incident is At Scene\n",
            "Incident Number: 22-1831113\tIncident Block # 6800\n"
          ]
        }
      ]
    },
    {
      "cell_type": "markdown",
      "source": [
        "Plan:\n",
        "1. Get connected to the Database (done)\n",
        "2. Get Twilio Client working (done)\n",
        "3. Figure out details of Python script to get newest data (and loop)\n",
        "4. Connet Python Script with Twilio\n",
        "5. Create Front end for the dispatch center\n",
        "6. Practice Pitch\n",
        "7. Separate Notifcations by Division"
      ],
      "metadata": {
        "id": "tOmDYisyZl0_"
      }
    },
    {
      "cell_type": "code",
      "source": [],
      "metadata": {
        "id": "iP-Rx_de7-f1"
      },
      "execution_count": null,
      "outputs": []
    },
    {
      "cell_type": "code",
      "source": [
        "import pandas as pd\n",
        "results = client.get(\"9fxf-t2tr\")\n",
        "\n",
        "#df_dallaspd = pd.DataFrame.from_records(results)\n",
        "#df_dallaspd=df_dallaspd.sort_values(by=['date', 'time'], ascending=False)\n",
        "#incident_report = df_dallaspd.iloc[0]\n",
        "\n",
        "#prints the entire dictionary/list\n",
        "#print(incident_report)\n",
        "#setting up vars to use in the output?\n",
        "# \n",
        "\n",
        "location1 = incident_report['S Westmoreland Rd']\n",
        "division1 = incident_report['Southwest']\n",
        "time1 = incident_report['15:10:27']\n",
        "status1 = incident_report['6X - Major Dist (Violence)']\n",
        "incidentNumber1 = incident_report['22-1830016']\n",
        "incidentReport1 = incident_report['7600']\n",
        "\n",
        "\n",
        "print(f\"INCIDENT REPORT ALERT!!!\\n An incident described as '{status1}' has been reported near {location1}, located in the {division1} division\\n\")\n",
        "print(f\"The incident occurred at {time1}\\n\")\n",
        "print(f\"Incident Number: {incidentNumber1}\\tIncident Block # {incidentReport1}\") \n",
        "# , incident_report('status'), incident_report('incident_number'), incident_report('block'))"
      ],
      "metadata": {
        "colab": {
          "base_uri": "https://localhost:8080/"
        },
        "outputId": "1bcc5162-25b7-4b91-d401-88aabed56f1c",
        "id": "KzxjS23X7-zx"
      },
      "execution_count": null,
      "outputs": [
        {
          "output_type": "stream",
          "name": "stdout",
          "text": [
            "INCIDENT REPORT ALERT!!!\n",
            "The location is Buckeye Commons Way, located in division Southeast\n",
            "The incident occurred at 18:47:22\n",
            "The current status of the incident is At Scene\n",
            "Incident Number: 22-1831113\tIncident Block # 6800\n"
          ]
        }
      ]
    },
    {
      "cell_type": "code",
      "source": [
        "!pip3 install sodapy\n",
        "!pip3 install socrata-py"
      ],
      "metadata": {
        "colab": {
          "base_uri": "https://localhost:8080/"
        },
        "id": "rMy1e8xyyRss",
        "outputId": "abe68b9f-f656-4020-b0c2-8de775ba71a7"
      },
      "execution_count": 24,
      "outputs": [
        {
          "output_type": "stream",
          "name": "stdout",
          "text": [
            "Looking in indexes: https://pypi.org/simple, https://us-python.pkg.dev/colab-wheels/public/simple/\n",
            "Requirement already satisfied: sodapy in /usr/local/lib/python3.7/dist-packages (2.2.0)\n",
            "Requirement already satisfied: requests>=2.28.1 in /usr/local/lib/python3.7/dist-packages (from sodapy) (2.28.1)\n",
            "Requirement already satisfied: certifi>=2017.4.17 in /usr/local/lib/python3.7/dist-packages (from requests>=2.28.1->sodapy) (2022.6.15)\n",
            "Requirement already satisfied: urllib3<1.27,>=1.21.1 in /usr/local/lib/python3.7/dist-packages (from requests>=2.28.1->sodapy) (1.24.3)\n",
            "Requirement already satisfied: charset-normalizer<3,>=2 in /usr/local/lib/python3.7/dist-packages (from requests>=2.28.1->sodapy) (2.1.1)\n",
            "Requirement already satisfied: idna<4,>=2.5 in /usr/local/lib/python3.7/dist-packages (from requests>=2.28.1->sodapy) (2.10)\n",
            "Looking in indexes: https://pypi.org/simple, https://us-python.pkg.dev/colab-wheels/public/simple/\n",
            "Requirement already satisfied: socrata-py in /usr/local/lib/python3.7/dist-packages (1.1.13)\n",
            "Requirement already satisfied: requests in /usr/local/lib/python3.7/dist-packages (from socrata-py) (2.28.1)\n",
            "Requirement already satisfied: charset-normalizer<3,>=2 in /usr/local/lib/python3.7/dist-packages (from requests->socrata-py) (2.1.1)\n",
            "Requirement already satisfied: urllib3<1.27,>=1.21.1 in /usr/local/lib/python3.7/dist-packages (from requests->socrata-py) (1.24.3)\n",
            "Requirement already satisfied: idna<4,>=2.5 in /usr/local/lib/python3.7/dist-packages (from requests->socrata-py) (2.10)\n",
            "Requirement already satisfied: certifi>=2017.4.17 in /usr/local/lib/python3.7/dist-packages (from requests->socrata-py) (2022.6.15)\n"
          ]
        }
      ]
    },
    {
      "cell_type": "markdown",
      "source": [
        "<h1 style=\"color: red;\">The following code is redundant</h1>"
      ],
      "metadata": {
        "id": "PSqm7ofwebY9"
      }
    },
    {
      "cell_type": "code",
      "source": [
        "results = client.get(\"9fxf-t2tr\")\n",
        "import time\n",
        "\n",
        "#Return entries since the time requested\n",
        "\n",
        "'''\n",
        "\n",
        "This runs in the Twilio Script\n",
        "\n",
        "while(True):\n",
        "  time.sleep(120)\n",
        "  #import code\n",
        "  latest_crime = latestCrime()\n",
        "\n",
        "'''\n",
        "\n",
        "def latestCrime():\n",
        "  !pip3 install sodapy\n",
        "  !pip3 install socrata-py\n",
        "  from socrata.authorization import Authorization\n",
        "  from socrata import Socrata\n",
        "  from sodapy import Socrata\n",
        "  #authorization\n",
        "  auth = Authorization(\n",
        "    \"\",\n",
        "    \"ay6ucx8w0pkf3wpblrvah7zfq\",\n",
        "    \"22m1ry5evkqtlnigmf79s79spk2r7rv04s3ewbwv38gvcjx9lf\"\n",
        "  )\n",
        "  #client to connect\n",
        "  client = Socrata(\n",
        "          \"www.dallasopendata.com\",\n",
        "          \"JEh8Dh72mlqeCbRYUcSq5CVbQ\",\n",
        "          timeout=10\n",
        "      )\n",
        "  #Store results from GET Request\n",
        "  results = client.get(\"9fxf-t2tr\")\n",
        "\n",
        "  #Sort through to find the latest crime\n",
        "  df_dallaspd = pd.DataFrame.from_records(results)\n",
        "  df_dallaspd=df_dallaspd.sort_values(by=['date', 'time'], ascending=False)\n",
        "  latest_crime = df_dallaspd.iloc[0]\n",
        "  print(latest_crime) \n",
        "  \n"
      ],
      "metadata": {
        "id": "MNUw5gOqc3Yl"
      },
      "execution_count": 25,
      "outputs": []
    }
  ]
}