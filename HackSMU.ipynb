{
  "nbformat": 4,
  "nbformat_minor": 0,
  "metadata": {
    "colab": {
      "provenance": [],
      "collapsed_sections": [],
      "include_colab_link": true
    },
    "kernelspec": {
      "name": "python3",
      "display_name": "Python 3"
    },
    "language_info": {
      "name": "python"
    }
  },
  "cells": [
    {
      "cell_type": "markdown",
      "metadata": {
        "id": "view-in-github",
        "colab_type": "text"
      },
      "source": [
        "<a href=\"https://colab.research.google.com/github/JavaGamer/HackSMU_22/blob/main/HackSMU.ipynb\" target=\"_parent\"><img src=\"https://colab.research.google.com/assets/colab-badge.svg\" alt=\"Open In Colab\"/></a>"
      ]
    },
    {
      "cell_type": "code",
      "source": [
        "# All the setup stuff here\n",
        "#!pip install ujson\n",
        "#!pip3 install socrata-py\n",
        "!pip3 install sodapy\n",
        "from socrata.authorization import Authorization\n",
        "from socrata import Socrata\n",
        "from sodapy import Socrata\n",
        "import ujson, requests, os\n",
        "\n",
        "# Make an auth object\n",
        "auth = Authorization(\n",
        "  \"\",\n",
        "  \"ay6ucx8w0pkf3wpblrvah7zfq\",\n",
        "  \"22m1ry5evkqtlnigmf79s79spk2r7rv04s3ewbwv38gvcjx9lf\"\n",
        ")\n",
        "\n",
        "client = Socrata(\n",
        "        \"www.dallasopendata.com\",\n",
        "        \"JEh8Dh72mlqeCbRYUcSq5CVbQ\",\n",
        "        timeout=10\n",
        "    )\n",
        "\n",
        "#Store results of the request\n",
        "results = client.get(\"9fxf-t2tr\")"
      ],
      "metadata": {
        "id": "0zA7MRedF_I1",
        "colab": {
          "base_uri": "https://localhost:8080/"
        },
        "outputId": "c07ae254-30d3-4c4a-8b63-2a33183256fc"
      },
      "execution_count": null,
      "outputs": [
        {
          "output_type": "stream",
          "name": "stdout",
          "text": [
            "Looking in indexes: https://pypi.org/simple, https://us-python.pkg.dev/colab-wheels/public/simple/\n",
            "Requirement already satisfied: sodapy in /usr/local/lib/python3.7/dist-packages (2.2.0)\n",
            "Requirement already satisfied: requests>=2.28.1 in /usr/local/lib/python3.7/dist-packages (from sodapy) (2.28.1)\n",
            "Requirement already satisfied: charset-normalizer<3,>=2 in /usr/local/lib/python3.7/dist-packages (from requests>=2.28.1->sodapy) (2.1.1)\n",
            "Requirement already satisfied: idna<4,>=2.5 in /usr/local/lib/python3.7/dist-packages (from requests>=2.28.1->sodapy) (2.10)\n",
            "Requirement already satisfied: urllib3<1.27,>=1.21.1 in /usr/local/lib/python3.7/dist-packages (from requests>=2.28.1->sodapy) (1.24.3)\n",
            "Requirement already satisfied: certifi>=2017.4.17 in /usr/local/lib/python3.7/dist-packages (from requests>=2.28.1->sodapy) (2022.6.15)\n"
          ]
        }
      ]
    },
    {
      "cell_type": "code",
      "execution_count": null,
      "metadata": {
        "id": "RuHY6Jz2DWF_",
        "colab": {
          "base_uri": "https://localhost:8080/",
          "height": 371
        },
        "outputId": "34d1b54a-80da-4725-e46e-f7e6b61a6339"
      },
      "outputs": [
        {
          "output_type": "stream",
          "name": "stdout",
          "text": [
            "58\n",
            "[{'incident_number': '22-1826079', 'division': 'South Central', 'nature_of_call': '7X - Major Accident', 'priority': '2', 'date': '2022-09-17T00:00:00.000', 'time': '00:39:48', 'unit_number': 'B726', 'location': 'W Saner Ave / S Beckley Ave', 'beat': '721', 'reporting_area': '4214,4219,', 'status': 'At Scene'}, {'incident_number': '22-1826079', 'division': 'South Central', 'nature_of_call': '7X - Major Accident', 'priority': '2', 'date': '2022-09-17T00:00:00.000', 'time': '00:39:48', 'unit_number': 'D741', 'location': 'W Saner Ave / S Beckley Ave', 'beat': '721', 'reporting_area': '4214,4219,', 'status': 'At Scene'}, {'incident_number': '22-1827937', 'division': 'South Central', 'nature_of_call': '11V - Burg Motor Veh', 'priority': '4', 'date': '2022-09-17T00:00:00.000', 'time': '07:48:50', 'unit_number': 'B709', 'block': '1400', 'location': 'Russell Glen Ln', 'beat': '742', 'reporting_area': '4329', 'status': 'At Scene'}, {'incident_number': '22-1827948', 'division': 'South Central', 'nature_of_call': '6X - Major Dist (Violence)', 'priority': '2', 'date': '2022-09-17T00:00:00.000', 'time': '08:03:59', 'unit_number': 'B741', 'block': '3500', 'location': 'S BECKLEY AVE', 'beat': '724', 'reporting_area': '4265', 'status': 'At Scene'}, {'incident_number': '22-1828156', 'division': 'Northwest', 'nature_of_call': '6X - Major Dist (Violence)', 'priority': '2', 'date': '2022-09-17T00:00:00.000', 'time': '08:42:44', 'unit_number': 'B509', 'block': '9800', 'location': 'Harry Hines Blvd', 'beat': '521', 'reporting_area': '3066', 'status': 'At Scene'}, {'incident_number': '22-1828128', 'division': 'Northwest', 'nature_of_call': '20 - Robbery', 'priority': '2', 'date': '2022-09-17T00:00:00.000', 'time': '09:12:52', 'unit_number': 'B555', 'block': '2400', 'location': 'Butler St', 'beat': '541', 'reporting_area': '3101', 'status': 'At Scene'}, {'incident_number': '22-1828252', 'division': 'Northeast', 'nature_of_call': '41/11R - Burg Res in Progress', 'priority': '1', 'date': '2022-09-17T00:00:00.000', 'time': '09:21:00', 'unit_number': 'B247', 'block': '6400', 'location': 'Lange Cir', 'beat': '219', 'reporting_area': '1119', 'status': 'At Scene'}, {'incident_number': '22-1828283', 'division': 'Southeast', 'nature_of_call': '7X - Major Accident', 'priority': '2', 'date': '2022-09-17T00:00:00.000', 'time': '09:22:57', 'unit_number': 'B348', 'block': '8000', 'location': 'Elam Rd', 'beat': '337', 'reporting_area': '4431', 'status': 'At Scene'}, {'incident_number': '22-1828201', 'division': 'South Central', 'nature_of_call': '6X - Major Dist (Violence)', 'priority': '2', 'date': '2022-09-17T00:00:00.000', 'time': '09:25:18', 'unit_number': 'B728', 'block': '700', 'location': 'Green Hill Rd', 'beat': '743', 'reporting_area': '4330', 'status': 'At Scene'}, {'incident_number': '22-1828410', 'division': 'South Central', 'nature_of_call': 'DASF-Dist Active Shooter Foot', 'priority': '1', 'date': '2022-09-17T00:00:00.000', 'time': '09:48:47', 'unit_number': 'D772', 'block': '2500', 'location': 'S LANCASTER RD', 'beat': '722', 'reporting_area': '4223', 'status': 'At Scene'}, {'incident_number': '22-1828415', 'division': 'South Central', 'nature_of_call': '22 - Animal Disturbance', 'priority': '2', 'date': '2022-09-17T00:00:00.000', 'time': '10:07:02', 'unit_number': 'B757', 'block': '2800', 'location': 'E Overton Rd', 'beat': '728', 'reporting_area': '4251', 'status': 'At Scene'}, {'incident_number': '22-1828513', 'division': 'Central', 'nature_of_call': '6X - Major Dist (Violence)', 'priority': '2', 'date': '2022-09-17T00:00:00.000', 'time': '10:18:19', 'unit_number': 'L222', 'location': 'N Lamar St / Pacific Ave', 'beat': '131', 'reporting_area': '2049', 'status': 'At Scene'}, {'incident_number': '22-1828591', 'division': 'Northeast', 'nature_of_call': '6X - Major Dist (Violence)', 'priority': '2', 'date': '2022-09-17T00:00:00.000', 'time': '10:24:59', 'unit_number': 'B252', 'block': '5600', 'location': 'Amesbury Dr', 'beat': '218', 'reporting_area': '1096', 'status': 'At Scene'}, {'incident_number': '22-1828625', 'division': 'Southeast', 'nature_of_call': '22 - Animal Disturbance', 'priority': '2', 'date': '2022-09-17T00:00:00.000', 'time': '10:29:12', 'unit_number': 'B321', 'block': '6900', 'location': 'C F Hawn Fwy Eb', 'beat': '352', 'reporting_area': '2198', 'status': 'At Scene'}, {'incident_number': '22-1828666', 'division': 'South Central', 'nature_of_call': '7X - Major Accident', 'priority': '2', 'date': '2022-09-17T00:00:00.000', 'time': '10:42:10', 'unit_number': 'D715', 'location': 'E Illinois Ave / Ozona St', 'beat': '716', 'reporting_area': '4223', 'status': 'At Scene'}, {'incident_number': '22-1828666', 'division': 'South Central', 'nature_of_call': '7X - Major Accident', 'priority': '2', 'date': '2022-09-17T00:00:00.000', 'time': '10:42:10', 'unit_number': 'D713', 'location': 'E Illinois Ave / Ozona St', 'beat': '716', 'reporting_area': '4223', 'status': 'At Scene'}, {'incident_number': '22-1828651', 'division': 'South Central', 'nature_of_call': '6X - Major Dist (Violence)', 'priority': '2', 'date': '2022-09-17T00:00:00.000', 'time': '10:43:55', 'unit_number': 'D723', 'block': '6900', 'location': 'Manitoba Ave', 'beat': '752', 'reporting_area': '4351', 'status': 'At Scene'}, {'incident_number': '22-1828574', 'division': 'Central', 'nature_of_call': '6X - Major Dist (Violence)', 'priority': '2', 'date': '2022-09-17T00:00:00.000', 'time': '11:04:58', 'unit_number': 'L211', 'block': '800', 'location': 'S Good Latimer Expy', 'beat': '135', 'reporting_area': '2089', 'status': 'At Scene'}, {'incident_number': '22-1828574', 'division': 'Central', 'nature_of_call': '6X - Major Dist (Violence)', 'priority': '2', 'date': '2022-09-17T00:00:00.000', 'time': '11:04:58', 'unit_number': 'L241', 'block': '800', 'location': 'S Good Latimer Expy', 'beat': '135', 'reporting_area': '2089', 'status': 'At Scene'}, {'incident_number': '22-1828776', 'division': 'Southwest', 'nature_of_call': '32 - Suspicious Person', 'priority': '2', 'date': '2022-09-17T00:00:00.000', 'time': '11:08:42', 'unit_number': 'CE451', 'location': 'Singleton Blvd / Sylvan Ave', 'beat': '423', 'reporting_area': '4060', 'status': 'At Scene'}, {'incident_number': '22-1828834', 'division': 'Northeast', 'nature_of_call': '**PD Requested by Fire', 'priority': '2', 'date': '2022-09-17T00:00:00.000', 'time': '11:09:33', 'unit_number': 'D233', 'block': '8100', 'location': 'SOUTHWESTERN BLVD', 'beat': '214', 'reporting_area': '370025', 'status': 'At Scene'}, {'incident_number': '22-1828834', 'division': 'Northeast', 'nature_of_call': '**PD Requested by Fire', 'priority': '2', 'date': '2022-09-17T00:00:00.000', 'time': '11:09:33', 'unit_number': 'B216', 'block': '8100', 'location': 'SOUTHWESTERN BLVD', 'beat': '214', 'reporting_area': '370025', 'status': 'At Scene'}, {'incident_number': '22-1828711', 'division': 'Southwest', 'nature_of_call': '6X - Major Dist (Violence)', 'priority': '2', 'date': '2022-09-17T00:00:00.000', 'time': '11:10:17', 'unit_number': 'B443', 'block': '6900', 'location': 'S Cockrell Hill Rd', 'beat': '452', 'reporting_area': '4548', 'status': 'At Scene'}, {'incident_number': '22-1828711', 'division': 'Southwest', 'nature_of_call': '6X - Major Dist (Violence)', 'priority': '2', 'date': '2022-09-17T00:00:00.000', 'time': '11:10:17', 'unit_number': 'B454', 'block': '6900', 'location': 'S Cockrell Hill Rd', 'beat': '452', 'reporting_area': '4548', 'status': 'At Scene'}, {'incident_number': '22-1828767', 'division': 'Northeast', 'nature_of_call': '7X - Major Accident', 'priority': '2', 'date': '2022-09-17T00:00:00.000', 'time': '11:10:57', 'unit_number': 'K5', 'location': 'Forest Ln / Schroeder Rd', 'beat': '241', 'reporting_area': '1038', 'status': 'At Scene'}, {'incident_number': '22-1828767', 'division': 'Northeast', 'nature_of_call': '7X - Major Accident', 'priority': '2', 'date': '2022-09-17T00:00:00.000', 'time': '11:10:57', 'unit_number': 'D250', 'location': 'Forest Ln / Schroeder Rd', 'beat': '241', 'reporting_area': '1038', 'status': 'At Scene'}, {'incident_number': '22-1828767', 'division': 'Northeast', 'nature_of_call': '7X - Major Accident', 'priority': '2', 'date': '2022-09-17T00:00:00.000', 'time': '11:10:57', 'unit_number': 'D225', 'location': 'Forest Ln / Schroeder Rd', 'beat': '241', 'reporting_area': '1038', 'status': 'At Scene'}, {'incident_number': '22-1828728', 'division': 'North Central', 'nature_of_call': '40 - Other', 'priority': '3', 'date': '2022-09-17T00:00:00.000', 'time': '11:12:08', 'unit_number': 'B642', 'block': '12400', 'location': 'N Central Serv Sb', 'beat': '642', 'reporting_area': '1027', 'status': 'At Scene'}, {'incident_number': '22-1828689', 'division': 'South Central', 'nature_of_call': '6X - Major Dist (Violence)', 'priority': '2', 'date': '2022-09-17T00:00:00.000', 'time': '11:14:21', 'unit_number': 'B711', 'location': '11th St / Avenue J', 'beat': '712', 'reporting_area': '4125', 'status': 'At Scene'}, {'incident_number': '22-1828843', 'division': 'North Central', 'nature_of_call': '**PD Requested by Fire', 'priority': '2', 'date': '2022-09-17T00:00:00.000', 'time': '11:17:14', 'unit_number': 'B694', 'location': 'Marsh Ln', 'beat': '612', 'reporting_area': '100289', 'status': 'At Scene'}, {'incident_number': '22-1828866', 'division': 'Southwest', 'nature_of_call': '40 - Other', 'priority': '3', 'date': '2022-09-17T00:00:00.000', 'time': '11:17:47', 'unit_number': 'D426', 'block': '2300', 'location': 'Fort Worth Ave', 'beat': '415', 'reporting_area': '4087', 'status': 'At Scene'}, {'incident_number': '22-1828801', 'division': 'Southeast', 'nature_of_call': '11R - Burg of Res', 'priority': '3', 'date': '2022-09-17T00:00:00.000', 'time': '11:19:39', 'unit_number': 'B337', 'block': '9700', 'location': 'Bruton Rd', 'beat': '326', 'reporting_area': '1246', 'status': 'At Scene'}, {'incident_number': '22-1828864', 'division': 'South Central', 'nature_of_call': '46 - CIT', 'priority': '2', 'date': '2022-09-17T00:00:00.000', 'time': '11:23:15', 'unit_number': 'RC127', 'block': '1600', 'location': 'S CORINTH ST RD', 'beat': '714', 'reporting_area': '230030', 'status': 'At Scene'}, {'incident_number': '22-1828808', 'division': 'South Central', 'nature_of_call': '40/01 - Other', 'priority': '2', 'date': '2022-09-17T00:00:00.000', 'time': '11:25:07', 'unit_number': 'B744', 'location': 'EMBERWOOD DR / RACINE DR', 'beat': '747', 'reporting_area': '4362', 'status': 'At Scene'}, {'incident_number': '22-1828808', 'division': 'South Central', 'nature_of_call': '40/01 - Other', 'priority': '2', 'date': '2022-09-17T00:00:00.000', 'time': '11:25:07', 'unit_number': 'D733', 'location': 'EMBERWOOD DR / RACINE DR', 'beat': '747', 'reporting_area': '4362', 'status': 'At Scene'}, {'incident_number': '22-1828808', 'division': 'South Central', 'nature_of_call': '40/01 - Other', 'priority': '2', 'date': '2022-09-17T00:00:00.000', 'time': '11:25:07', 'unit_number': 'B720', 'location': 'EMBERWOOD DR / RACINE DR', 'beat': '747', 'reporting_area': '4362', 'status': 'At Scene'}, {'incident_number': '22-1827928', 'division': 'South Central', 'nature_of_call': '37 - Street Blockage', 'priority': '4', 'date': '2022-09-17T00:00:00.000', 'time': '11:31:34', 'unit_number': 'REACT7', 'block': '7600', 'location': 'JULIUS SCHEPPS SERV SB', 'beat': '717', 'reporting_area': '4228', 'status': 'At Scene'}, {'incident_number': '22-1828854', 'division': 'Northwest', 'nature_of_call': '6X - Major Dist (Violence)', 'priority': '2', 'date': '2022-09-17T00:00:00.000', 'time': '11:31:45', 'unit_number': 'B517', 'block': '2000', 'location': 'Market Center Blvd', 'beat': '516', 'reporting_area': '3124', 'status': 'At Scene'}, {'incident_number': '22-1828884', 'division': 'North Central', 'nature_of_call': '07 - Minor Accident', 'priority': '3', 'date': '2022-09-17T00:00:00.000', 'time': '11:38:51', 'unit_number': 'D616', 'location': 'ALPHA RD', 'beat': '633', 'reporting_area': '1017', 'status': 'At Scene'}, {'incident_number': '22-1828870', 'division': 'Southeast', 'nature_of_call': '6X - Major Dist (Violence)', 'priority': '2', 'date': '2022-09-17T00:00:00.000', 'time': '11:44:10', 'unit_number': 'D332', 'block': '4500', 'location': 'Metropolitan Ave', 'beat': '311', 'reporting_area': '2100', 'status': 'At Scene'}, {'incident_number': '22-1828547', 'division': 'Southeast', 'nature_of_call': '09V - UUMV', 'priority': '4', 'date': '2022-09-17T00:00:00.000', 'time': '11:45:31', 'unit_number': 'D326', 'block': '400', 'location': 'Pleasant Dr', 'beat': '337', 'reporting_area': '2210', 'status': 'At Scene'}, {'incident_number': '22-1828947', 'division': 'Southeast', 'nature_of_call': '7X - Major Accident', 'priority': '2', 'date': '2022-09-17T00:00:00.000', 'time': '11:47:46', 'unit_number': 'B346', 'location': 'S Buckner Blvd / Scyene Rd', 'beat': '321', 'reporting_area': '1237', 'status': 'At Scene'}, {'incident_number': '22-1828953', 'division': 'North Central', 'nature_of_call': '40/01 - Other', 'priority': '2', 'date': '2022-09-17T00:00:00.000', 'time': '11:48:14', 'unit_number': 'B623', 'block': '17800', 'location': 'DICKERSON ST', 'beat': '623', 'reporting_area': '4404', 'status': 'At Scene'}, {'incident_number': '22-1828952', 'division': 'North Central', 'nature_of_call': '6XE - Disturbance Emergency', 'priority': '1', 'date': '2022-09-17T00:00:00.000', 'time': '11:48:22', 'unit_number': 'D613', 'block': '5300', 'location': 'Belt Line Rd', 'beat': '625', 'reporting_area': '6005', 'status': 'At Scene'}, {'incident_number': '22-1828952', 'division': 'North Central', 'nature_of_call': '6XE - Disturbance Emergency', 'priority': '1', 'date': '2022-09-17T00:00:00.000', 'time': '11:48:22', 'unit_number': 'D612', 'block': '5300', 'location': 'Belt Line Rd', 'beat': '625', 'reporting_area': '6005', 'status': 'At Scene'}, {'incident_number': '22-1828871', 'division': 'Central', 'nature_of_call': '6X - Major Dist (Violence)', 'priority': '2', 'date': '2022-09-17T00:00:00.000', 'time': '11:50:22', 'unit_number': 'B134', 'block': '3100', 'location': 'Thomas Ave', 'beat': '121', 'reporting_area': '2015', 'status': 'At Scene'}, {'incident_number': '22-1829010', 'division': 'Northeast', 'nature_of_call': '37 - Street Blockage', 'priority': '4', 'date': '2022-09-17T00:00:00.000', 'time': '11:51:38', 'unit_number': 'B242', 'block': '11900', 'location': 'Shiloh Rd', 'beat': '227', 'reporting_area': '1102', 'status': 'At Scene'}, {'incident_number': '22-1829010', 'division': 'Northeast', 'nature_of_call': '37 - Street Blockage', 'priority': '4', 'date': '2022-09-17T00:00:00.000', 'time': '11:51:38', 'unit_number': 'B226', 'block': '11900', 'location': 'Shiloh Rd', 'beat': '227', 'reporting_area': '1102', 'status': 'At Scene'}, {'incident_number': '22-1828747', 'division': 'Central', 'nature_of_call': '09V - UUMV', 'priority': '4', 'date': '2022-09-17T00:00:00.000', 'time': '11:52:07', 'unit_number': 'B143', 'block': '3500', 'location': 'Ross Ave', 'beat': '154', 'reporting_area': '2026', 'status': 'At Scene'}, {'incident_number': '22-1828909', 'division': 'Central', 'nature_of_call': '40/01 - Other', 'priority': '2', 'date': '2022-09-17T00:00:00.000', 'time': '11:52:19', 'unit_number': 'B124', 'location': 'Greenwood Cemetery / Bowen St', 'beat': '121', 'reporting_area': '2006', 'status': 'At Scene'}, {'incident_number': '22-1828778', 'division': 'South Central', 'nature_of_call': '6X - Major Dist (Violence)', 'priority': '2', 'date': '2022-09-17T00:00:00.000', 'time': '11:53:08', 'unit_number': 'B735', 'block': '700', 'location': 'W PENTAGON PKWY', 'beat': '741', 'reporting_area': '4264', 'status': 'At Scene'}, {'incident_number': '22-1828911', 'division': 'Northwest', 'nature_of_call': '32 - Suspicious Person', 'priority': '2', 'date': '2022-09-17T00:00:00.000', 'time': '11:54:49', 'unit_number': 'B532', 'location': 'W Northwest Hwy / N Stemmons Acrd Nb', 'beat': '521', 'reporting_area': '4451', 'status': 'At Scene'}, {'incident_number': '22-1828911', 'division': 'Northwest', 'nature_of_call': '32 - Suspicious Person', 'priority': '2', 'date': '2022-09-17T00:00:00.000', 'time': '11:54:49', 'unit_number': 'B552', 'location': 'W Northwest Hwy / N Stemmons Acrd Nb', 'beat': '521', 'reporting_area': '4451', 'status': 'At Scene'}, {'incident_number': '22-1828933', 'division': 'Northwest', 'nature_of_call': '6X - Major Dist (Violence)', 'priority': '2', 'date': '2022-09-17T00:00:00.000', 'time': '11:54:58', 'unit_number': 'B513', 'block': '2700', 'location': 'Irving Blvd', 'beat': '516', 'reporting_area': '3112', 'status': 'At Scene'}, {'incident_number': '22-1828933', 'division': 'Northwest', 'nature_of_call': '6X - Major Dist (Violence)', 'priority': '2', 'date': '2022-09-17T00:00:00.000', 'time': '11:54:58', 'unit_number': 'B516', 'block': '2700', 'location': 'Irving Blvd', 'beat': '516', 'reporting_area': '3112', 'status': 'At Scene'}, {'incident_number': '22-1828931', 'division': 'North Central', 'nature_of_call': '40 - Other', 'priority': '3', 'date': '2022-09-17T00:00:00.000', 'time': '11:57:06', 'unit_number': 'B651', 'block': '13000', 'location': 'Preston Rd', 'beat': '635', 'reporting_area': '1018', 'status': 'At Scene'}, {'incident_number': '22-1802597', 'division': 'South Central', 'nature_of_call': '7XF - Major Accident Freeway', 'priority': '1', 'date': '2022-09-13T00:00:00.000', 'time': '17:29:27', 'unit_number': 'D736', 'block': '8100', 'location': 'MARVIN D LOVE FWY NB', 'beat': '745', 'reporting_area': '4381', 'status': 'At Scene'}, {'incident_number': '22-1802597', 'division': 'South Central', 'nature_of_call': '7XF - Major Accident Freeway', 'priority': '1', 'date': '2022-09-13T00:00:00.000', 'time': '17:29:27', 'unit_number': 'B747', 'block': '8100', 'location': 'MARVIN D LOVE FWY NB', 'beat': '745', 'reporting_area': '4381', 'status': 'At Scene'}]\n",
            "\n",
            "Final Entry: {'incident_number': '22-1826079', 'division': 'South Central', 'nature_of_call': '7X - Major Accident', 'priority': '2', 'date': '2022-09-17T00:00:00.000', 'time': '00:39:48', 'unit_number': 'B726', 'location': 'W Saner Ave / S Beckley Ave', 'beat': '721', 'reporting_area': '4214,4219,', 'status': 'At Scene'}\n",
            "\n",
            "\n",
            "('time', '00:39:48')\n"
          ]
        },
        {
          "output_type": "error",
          "ename": "NameError",
          "evalue": "ignored",
          "traceback": [
            "\u001b[0;31m---------------------------------------------------------------------------\u001b[0m",
            "\u001b[0;31mNameError\u001b[0m                                 Traceback (most recent call last)",
            "\u001b[0;32m<ipython-input-53-cf766c480c53>\u001b[0m in \u001b[0;36m<module>\u001b[0;34m\u001b[0m\n\u001b[1;32m     36\u001b[0m \u001b[0;34m\u001b[0m\u001b[0m\n\u001b[1;32m     37\u001b[0m \u001b[0;34m\u001b[0m\u001b[0m\n\u001b[0;32m---> 38\u001b[0;31m \u001b[0;32mif\u001b[0m \u001b[0minc_time\u001b[0m \u001b[0;34m>=\u001b[0m \u001b[0mold_time\u001b[0m\u001b[0;34m:\u001b[0m\u001b[0;34m\u001b[0m\u001b[0;34m\u001b[0m\u001b[0m\n\u001b[0m\u001b[1;32m     39\u001b[0m     \u001b[0mprint\u001b[0m\u001b[0;34m(\u001b[0m\u001b[0;34m'new incidents'\u001b[0m\u001b[0;34m)\u001b[0m\u001b[0;34m\u001b[0m\u001b[0;34m\u001b[0m\u001b[0m\n\u001b[1;32m     40\u001b[0m \u001b[0;34m\u001b[0m\u001b[0m\n",
            "\u001b[0;31mNameError\u001b[0m: name 'old_time' is not defined"
          ]
        }
      ],
      "source": [
        "#old_time = (\"time\", \"07:41:42\")\n",
        "\n",
        "#Request the 'DallasPD Open Calls' Data Set\n",
        "url = requests.get(\"https://www.dallasopendata.com/resource/9fxf-t2tr.json\")\n",
        "text = url.text\n",
        "\n",
        "results = client.get(\"9fxf-t2tr\")\n",
        "\n",
        "data = ujson.loads(text)\n",
        "old_data = data.pop\n",
        "\n",
        "#last_data = [{\"incident_number\":\"22-1824208\",\"division\":\"Southeast\",\"nature_of_call\":\"6X - Major Dist (Violence)\",\"priority\":\"2\",\"date\":\"2022-09-16T00:00:00.000\",\"time\":\"21:50:10\",\"unit_number\":\"F312\",\"location\":\"Pine St / S Malcolm X Blvd\",\"beat\":\"347\",\"reporting_area\":\"2173\",\"status\":\"At Scene\"}]\n",
        "\n",
        "'''\n",
        "  Useful information to send:\n",
        "    Division\n",
        "    Nature of Call\n",
        "    Date/Time\n",
        "    Location\n",
        "    Status\n",
        "    Block\n",
        "'''\n",
        "\n",
        "data_length = len(data)\n",
        "print(data_length)\n",
        "\n",
        "print(data)\n",
        "\n",
        "final_entry = data[0]\n",
        "\n",
        "print(\"\\nFinal Entry:\",final_entry)\n",
        "\n",
        "print(\"\\n\")\n",
        "inc_time = list(final_entry.items())[5]\n",
        "print(inc_time)\n",
        "\n",
        "\n",
        "\n",
        "if inc_time >= old_time:\n",
        "    print('new incidents')\n",
        "\n",
        "\n",
        "elif inc_time <= old_time:\n",
        "    print('nothing new')\n",
        "\n",
        "else:\n",
        "    print('something has gone terribly wrong D:<')\n",
        "\n",
        "# old_data = data\n",
        "# return last_time"
      ]
    },
    {
      "cell_type": "code",
      "source": [
        "import pandas as pd\n",
        "\n",
        "df_dallaspd = pd.DataFrame.from_records(results)\n",
        "df_dallaspd=df_dallaspd.sort_values(by=['date', 'time'], ascending=False)\n",
        "df_dallaspd.iloc[0]"
      ],
      "metadata": {
        "colab": {
          "base_uri": "https://localhost:8080/"
        },
        "id": "M9rQgLOsSYhS",
        "outputId": "c51408b7-27ff-438e-87ce-ae7c2c6a10b4"
      },
      "execution_count": null,
      "outputs": [
        {
          "output_type": "execute_result",
          "data": {
            "text/plain": [
              "incident_number                 22-1828931\n",
              "division                     North Central\n",
              "nature_of_call                  40 - Other\n",
              "priority                                 3\n",
              "date               2022-09-17T00:00:00.000\n",
              "time                              11:57:06\n",
              "unit_number                           B651\n",
              "location                        Preston Rd\n",
              "beat                                   635\n",
              "reporting_area                        1018\n",
              "status                            At Scene\n",
              "block                                13000\n",
              "Name: 55, dtype: object"
            ]
          },
          "metadata": {},
          "execution_count": 57
        }
      ]
    },
    {
      "cell_type": "markdown",
      "source": [
        "Plan:\n",
        "1. Get connected to the Database (done)\n",
        "2. Get Twilio Client working (done)\n",
        "3. Figure out details of Python script to get newest data (and loop)\n",
        "4. Connet Python Script with Twilio\n",
        "5. Create Front end for the dispatch center\n",
        "6. Practice Pitch\n",
        "7. Separate Notifcations by Division"
      ],
      "metadata": {
        "id": "tOmDYisyZl0_"
      }
    },
    {
      "cell_type": "markdown",
      "source": [
        "<h1 style=\"color: red;\">The following code is redundant</h1>"
      ],
      "metadata": {
        "id": "PSqm7ofwebY9"
      }
    },
    {
      "cell_type": "code",
      "source": [
        "results = client.get(\"9fxf-t2tr\")\n",
        "import time\n",
        "\n",
        "#Return entries since the time requested\n",
        "\n",
        "'''\n",
        "\n",
        "This runs in the Twilio Script\n",
        "\n",
        "while(True):\n",
        "  time.sleep(120)\n",
        "  #import code\n",
        "  latest_crime = latestCrime()\n",
        "\n",
        "'''\n",
        "\n",
        "def latestCrime():\n",
        "  !pip3 install sodapy\n",
        "  !pip3 install socrata-py\n",
        "  from socrata.authorization import Authorization\n",
        "  from socrata import Socrata\n",
        "  from sodapy import Socrata\n",
        "  #authorization\n",
        "  auth = Authorization(\n",
        "    \"\",\n",
        "    \"ay6ucx8w0pkf3wpblrvah7zfq\",\n",
        "    \"22m1ry5evkqtlnigmf79s79spk2r7rv04s3ewbwv38gvcjx9lf\"\n",
        "  )\n",
        "  #client to connect\n",
        "  client = Socrata(\n",
        "          \"www.dallasopendata.com\",\n",
        "          \"JEh8Dh72mlqeCbRYUcSq5CVbQ\",\n",
        "          timeout=10\n",
        "      )\n",
        "  #Store results from GET Request\n",
        "  results = client.get(\"9fxf-t2tr\")\n",
        "\n",
        "  #Sort through to find the latest crime\n",
        "  df_dallaspd = pd.DataFrame.from_records(results)\n",
        "  df_dallaspd=df_dallaspd.sort_values(by=['date', 'time'], ascending=False)\n",
        "  latest_crime = df_dallaspd.iloc[0]\n",
        "  return latest_crime\n"
      ],
      "metadata": {
        "id": "MNUw5gOqc3Yl"
      },
      "execution_count": null,
      "outputs": []
    }
  ]
}